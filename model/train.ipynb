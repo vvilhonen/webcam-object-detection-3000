{
 "cells": [
  {
   "cell_type": "code",
   "execution_count": 4,
   "metadata": {},
   "outputs": [
    {
     "name": "stdout",
     "output_type": "stream",
     "text": [
      "Found 2035 files belonging to 2 classes.\n",
      "Using 1628 files for training.\n",
      "Found 2035 files belonging to 2 classes.\n",
      "Using 407 files for validation.\n",
      "Epoch 1/15\n",
      "51/51 [==============================] - 97s 2s/step - loss: 0.3133 - accuracy: 0.8649 - val_loss: 0.6843 - val_accuracy: 0.5553\n",
      "Epoch 2/15\n",
      "51/51 [==============================] - 94s 2s/step - loss: 0.1797 - accuracy: 0.9355 - val_loss: 0.6959 - val_accuracy: 0.5553\n",
      "Epoch 3/15\n",
      "51/51 [==============================] - 94s 2s/step - loss: 0.0852 - accuracy: 0.9705 - val_loss: 0.7160 - val_accuracy: 0.5553\n",
      "Epoch 4/15\n",
      "51/51 [==============================] - 95s 2s/step - loss: 0.0794 - accuracy: 0.9748 - val_loss: 0.7839 - val_accuracy: 0.5553\n",
      "Epoch 5/15\n",
      "51/51 [==============================] - 97s 2s/step - loss: 0.0564 - accuracy: 0.9853 - val_loss: 0.8251 - val_accuracy: 0.5553\n",
      "Epoch 6/15\n",
      "51/51 [==============================] - 111s 2s/step - loss: 0.0631 - accuracy: 0.9773 - val_loss: 0.8587 - val_accuracy: 0.5577\n",
      "Epoch 7/15\n",
      "51/51 [==============================] - 101s 2s/step - loss: 0.0600 - accuracy: 0.9779 - val_loss: 1.3458 - val_accuracy: 0.5553\n",
      "Epoch 8/15\n",
      "51/51 [==============================] - 100s 2s/step - loss: 0.0389 - accuracy: 0.9846 - val_loss: 1.2140 - val_accuracy: 0.5577\n",
      "Epoch 9/15\n",
      "51/51 [==============================] - 100s 2s/step - loss: 0.0720 - accuracy: 0.9760 - val_loss: 1.2035 - val_accuracy: 0.5528\n",
      "Epoch 10/15\n",
      "51/51 [==============================] - 100s 2s/step - loss: 0.0324 - accuracy: 0.9865 - val_loss: 0.3987 - val_accuracy: 0.8378\n",
      "Epoch 11/15\n",
      "51/51 [==============================] - 99s 2s/step - loss: 0.0427 - accuracy: 0.9828 - val_loss: 0.2715 - val_accuracy: 0.8894\n",
      "Epoch 12/15\n",
      "51/51 [==============================] - 98s 2s/step - loss: 0.0349 - accuracy: 0.9889 - val_loss: 0.1699 - val_accuracy: 0.9410\n",
      "Epoch 13/15\n",
      "51/51 [==============================] - 98s 2s/step - loss: 0.0233 - accuracy: 0.9932 - val_loss: 0.4019 - val_accuracy: 0.7740\n",
      "Epoch 14/15\n",
      "51/51 [==============================] - 98s 2s/step - loss: 0.0107 - accuracy: 0.9969 - val_loss: 0.7632 - val_accuracy: 0.6143\n",
      "Epoch 15/15\n",
      "51/51 [==============================] - 98s 2s/step - loss: 0.0194 - accuracy: 0.9945 - val_loss: 0.0075 - val_accuracy: 1.0000\n"
     ]
    },
    {
     "data": {
      "text/plain": [
       "<keras.callbacks.History at 0x7fd084370970>"
      ]
     },
     "execution_count": 4,
     "metadata": {},
     "output_type": "execute_result"
    }
   ],
   "source": [
    "import tensorflow as tf\n",
    "from tensorflow import keras\n",
    "from tensorflow.keras import layers\n",
    "\n",
    "image_size = (320, 180)\n",
    "batch_size = 32\n",
    "\n",
    "train_ds = tf.keras.preprocessing.image_dataset_from_directory(\"data\", validation_split=0.2, subset=\"training\", seed=1337, image_size=image_size, batch_size=batch_size).prefetch(buffer_size=32)\n",
    "test_ds = tf.keras.preprocessing.image_dataset_from_directory(\"data\", validation_split=0.2, subset=\"validation\", seed=1337, image_size=image_size, batch_size=batch_size).prefetch(buffer_size=32)\n",
    "\n",
    "\n",
    "def make_model(input_shape):\n",
    "    inputs = keras.Input(shape=input_shape)\n",
    "    x = keras.Sequential(\n",
    "        [\n",
    "            layers.RandomFlip(\"horizontal\"),\n",
    "            layers.RandomRotation(0.1),\n",
    "        ]\n",
    "    )(inputs)\n",
    "\n",
    "    x = layers.Rescaling(1.0 / 255)(x)\n",
    "    x = layers.Conv2D(32, 3, strides=2, padding=\"same\")(x)\n",
    "    x = layers.BatchNormalization()(x)\n",
    "    x = layers.Activation(\"relu\")(x)\n",
    "\n",
    "    x = layers.Conv2D(64, 3, padding=\"same\")(x)\n",
    "    x = layers.BatchNormalization()(x)\n",
    "    x = layers.Activation(\"relu\")(x)\n",
    "\n",
    "    previous_block_activation = x\n",
    "\n",
    "    for size in [128, 256, 512, 728]:\n",
    "        x = layers.Activation(\"relu\")(x)\n",
    "        x = layers.SeparableConv2D(size, 3, padding=\"same\")(x)\n",
    "        x = layers.BatchNormalization()(x)\n",
    "\n",
    "        x = layers.Activation(\"relu\")(x)\n",
    "        x = layers.SeparableConv2D(size, 3, padding=\"same\")(x)\n",
    "        x = layers.BatchNormalization()(x)\n",
    "\n",
    "        x = layers.MaxPooling2D(3, strides=2, padding=\"same\")(x)\n",
    "\n",
    "        residual = layers.Conv2D(size, 1, strides=2, padding=\"same\")(\n",
    "            previous_block_activation\n",
    "        )\n",
    "        x = layers.add([x, residual])\n",
    "        previous_block_activation = x\n",
    "\n",
    "    x = layers.SeparableConv2D(1024, 3, padding=\"same\")(x)\n",
    "    x = layers.BatchNormalization()(x)\n",
    "    x = layers.Activation(\"relu\")(x)\n",
    "\n",
    "    x = layers.GlobalAveragePooling2D()(x)\n",
    "    activation = \"sigmoid\"\n",
    "    units = 1\n",
    "\n",
    "    x = layers.Dropout(0.5)(x)\n",
    "    outputs = layers.Dense(units, activation=activation)(x)\n",
    "    return keras.Model(inputs, outputs)\n",
    "\n",
    "model = make_model(input_shape=image_size + (3,))\n",
    "\n",
    "epochs = 15\n",
    "\n",
    "callbacks = [\n",
    "    keras.callbacks.ModelCheckpoint(\"save_at_{epoch}.h5\"),\n",
    "]\n",
    "model.compile(\n",
    "    optimizer=keras.optimizers.Adam(1e-3),\n",
    "    loss=\"binary_crossentropy\",\n",
    "    metrics=[\"accuracy\"],\n",
    ")\n",
    "model.fit(\n",
    "    train_ds, epochs=epochs, callbacks=callbacks, validation_data=test_ds,\n",
    ")\n",
    "\n"
   ]
  },
  {
   "cell_type": "code",
   "execution_count": 5,
   "metadata": {},
   "outputs": [
    {
     "name": "stdout",
     "output_type": "stream",
     "text": [
      "INFO:tensorflow:Assets written to: trained/assets\n"
     ]
    }
   ],
   "source": [
    "model.save(\"trained\", save_format=\"tf\")\n",
    "# model.summary()\n"
   ]
  }
 ],
 "metadata": {
  "interpreter": {
   "hash": "31f2aee4e71d21fbe5cf8b01ff0e069b9275f58929596ceb00d14d90e3e16cd6"
  },
  "kernelspec": {
   "display_name": "Python 3.8.10 64-bit",
   "language": "python",
   "name": "python3"
  },
  "language_info": {
   "codemirror_mode": {
    "name": "ipython",
    "version": 3
   },
   "file_extension": ".py",
   "mimetype": "text/x-python",
   "name": "python",
   "nbconvert_exporter": "python",
   "pygments_lexer": "ipython3",
   "version": "3.8.10"
  },
  "orig_nbformat": 4
 },
 "nbformat": 4,
 "nbformat_minor": 2
}
